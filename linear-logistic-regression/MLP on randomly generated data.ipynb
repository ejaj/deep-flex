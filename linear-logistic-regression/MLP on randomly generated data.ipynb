{
 "cells": [
  {
   "cell_type": "code",
   "execution_count": 11,
   "id": "680587f4-7140-4536-8137-c811110e0809",
   "metadata": {},
   "outputs": [],
   "source": [
    "import warnings\n",
    "warnings.simplefilter(\"ignore\")"
   ]
  },
  {
   "cell_type": "code",
   "execution_count": 12,
   "id": "776f4485-bc03-452b-967f-def13e249702",
   "metadata": {},
   "outputs": [],
   "source": [
    "import keras\n",
    "from keras.models import Sequential\n",
    "from keras.layers import Dense, Dropout, Activation\n",
    "from keras.optimizers import SGD\n",
    "import numpy as np\n",
    "import tensorflow as tf"
   ]
  },
  {
   "cell_type": "code",
   "execution_count": 13,
   "id": "23e8c256-cf61-4e18-9b82-ba865c1882f8",
   "metadata": {},
   "outputs": [],
   "source": [
    "#Generate the data using the random function.\n",
    "# Generate dummy data\n",
    "x_train = np.random.random((1000, 20))\n",
    "# Y having 10 possible categories\n",
    "y_train = keras.utils.to_categorical(np.random.randint(10, size=(1000, 1)), num_classes=10)\n",
    "x_test = np.random.random((100, 20))\n",
    "y_test = keras.utils.to_categorical(np.random.randint(10, size=(100, 1)), num_classes=10)"
   ]
  },
  {
   "cell_type": "code",
   "execution_count": 14,
   "id": "1936c234-ec6c-43a1-98e6-37ea1cef1563",
   "metadata": {},
   "outputs": [],
   "source": [
    "#Creating a sequential model.\n",
    "#Create a model \n",
    "model = Sequential()\n",
    "# Dense(64) is a fully-connected layer with 64 hidden units.\n",
    "# In the first layer, you must specify the expected input data shape:\n",
    "# here, 20-dimensional vectors."
   ]
  },
  {
   "cell_type": "code",
   "execution_count": 15,
   "id": "ce06900c-79fa-4cec-86d0-308dff497187",
   "metadata": {},
   "outputs": [],
   "source": [
    "model.add(Dense(64, activation='relu', input_dim=20))\n",
    "model.add(Dropout(0.5))\n",
    "model.add(Dense(64, activation='relu'))\n",
    "model.add(Dropout(0.5))\n",
    "model.add(Dense(10, activation='softmax'))\n",
    "#Compile the model"
   ]
  },
  {
   "cell_type": "code",
   "execution_count": 20,
   "id": "06e15c45-e796-4056-aad8-4ee0ccadb3f5",
   "metadata": {},
   "outputs": [
    {
     "name": "stdout",
     "output_type": "stream",
     "text": [
      "Epoch 1/20\n",
      "8/8 [==============================] - 0s 2ms/step - loss: 2.4859 - accuracy: 0.0860\n",
      "Epoch 2/20\n",
      "8/8 [==============================] - 0s 1ms/step - loss: 2.3774 - accuracy: 0.1110\n",
      "Epoch 3/20\n",
      "8/8 [==============================] - 0s 2ms/step - loss: 2.3416 - accuracy: 0.0900\n",
      "Epoch 4/20\n",
      "8/8 [==============================] - 0s 2ms/step - loss: 2.3245 - accuracy: 0.0990\n",
      "Epoch 5/20\n",
      "8/8 [==============================] - 0s 2ms/step - loss: 2.3270 - accuracy: 0.1100\n",
      "Epoch 6/20\n",
      "8/8 [==============================] - 0s 2ms/step - loss: 2.3210 - accuracy: 0.1130\n",
      "Epoch 7/20\n",
      "8/8 [==============================] - 0s 2ms/step - loss: 2.3120 - accuracy: 0.1140\n",
      "Epoch 8/20\n",
      "8/8 [==============================] - 0s 2ms/step - loss: 2.3104 - accuracy: 0.1160\n",
      "Epoch 9/20\n",
      "8/8 [==============================] - 0s 1ms/step - loss: 2.3188 - accuracy: 0.1040\n",
      "Epoch 10/20\n",
      "8/8 [==============================] - 0s 2ms/step - loss: 2.3072 - accuracy: 0.1180\n",
      "Epoch 11/20\n",
      "8/8 [==============================] - 0s 1ms/step - loss: 2.3119 - accuracy: 0.1060\n",
      "Epoch 12/20\n",
      "8/8 [==============================] - 0s 2ms/step - loss: 2.3093 - accuracy: 0.1090\n",
      "Epoch 13/20\n",
      "8/8 [==============================] - 0s 1ms/step - loss: 2.3159 - accuracy: 0.0880\n",
      "Epoch 14/20\n",
      "8/8 [==============================] - 0s 1ms/step - loss: 2.3065 - accuracy: 0.0960\n",
      "Epoch 15/20\n",
      "8/8 [==============================] - 0s 1ms/step - loss: 2.2968 - accuracy: 0.1050\n",
      "Epoch 16/20\n",
      "8/8 [==============================] - 0s 1ms/step - loss: 2.2965 - accuracy: 0.1170\n",
      "Epoch 17/20\n",
      "8/8 [==============================] - 0s 1ms/step - loss: 2.3033 - accuracy: 0.1190\n",
      "Epoch 18/20\n",
      "8/8 [==============================] - 0s 2ms/step - loss: 2.2949 - accuracy: 0.1080\n",
      "Epoch 19/20\n",
      "8/8 [==============================] - 0s 1ms/step - loss: 2.3014 - accuracy: 0.1230\n",
      "Epoch 20/20\n",
      "8/8 [==============================] - 0s 2ms/step - loss: 2.2994 - accuracy: 0.1020\n",
      "1/1 [==============================] - 0s 80ms/step - loss: 2.3047 - accuracy: 0.1100\n"
     ]
    }
   ],
   "source": [
    "sgd = tf.keras.optimizers.legacy.SGD(learning_rate=0.01, decay=1e-6, momentum=0.9, nesterov=True)\n",
    "model.compile(loss='categorical_crossentropy',optimizer=sgd,metrics=['accuracy'])\n",
    "#Using the ‘model.fit’ function to train the model.\n",
    "# Fit the model\n",
    "model.fit(x_train, y_train,epochs=20,batch_size=128)\n",
    "#Evaluating the performance of the model using the ‘model.evaluate’ function.\n",
    "# Evaluate the model\n",
    "score = model.evaluate(x_test, y_test, batch_size=128)"
   ]
  },
  {
   "cell_type": "code",
   "execution_count": null,
   "id": "ad91acf0-12e2-43f5-8518-5a5fc7a563e3",
   "metadata": {},
   "outputs": [],
   "source": []
  },
  {
   "cell_type": "code",
   "execution_count": null,
   "id": "930df59f-a406-4483-9a35-9901c623d118",
   "metadata": {},
   "outputs": [],
   "source": []
  }
 ],
 "metadata": {
  "kernelspec": {
   "display_name": "Python 3 (ipykernel)",
   "language": "python",
   "name": "python3"
  },
  "language_info": {
   "codemirror_mode": {
    "name": "ipython",
    "version": 3
   },
   "file_extension": ".py",
   "mimetype": "text/x-python",
   "name": "python",
   "nbconvert_exporter": "python",
   "pygments_lexer": "ipython3",
   "version": "3.10.12"
  }
 },
 "nbformat": 4,
 "nbformat_minor": 5
}
