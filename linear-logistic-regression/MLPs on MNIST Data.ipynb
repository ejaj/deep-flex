{
 "cells": [
  {
   "cell_type": "code",
   "execution_count": 1,
   "id": "d24561f6-1fe9-4af4-8e21-37ad7e34ee3f",
   "metadata": {},
   "outputs": [],
   "source": [
    "import warnings\n",
    "warnings.simplefilter(\"ignore\")"
   ]
  },
  {
   "cell_type": "code",
   "execution_count": 3,
   "id": "8c0752f1-25ea-44ee-9d84-04fe57c1f342",
   "metadata": {},
   "outputs": [],
   "source": [
    "import numpy as np\n",
    "import os\n",
    "from keras.datasets import mnist\n",
    "from keras.models import Sequential\n",
    "from keras.layers import Dense, Dropout, Activation\n",
    "from keras.optimizers import RMSprop\n",
    "from keras.utils import to_categorical"
   ]
  },
  {
   "cell_type": "code",
   "execution_count": 6,
   "id": "9ccdfdcc-aa14-41e0-b177-d488be79d2f4",
   "metadata": {},
   "outputs": [],
   "source": [
    "np.random.seed(100) # for reproducibility\n",
    "batch_size = 128 #Number of images used in each optimization step\n",
    "nb_classes = 10 # Number of classes (digits from 0 to 9)\n",
    "nb_epoch = 20 #Number of times the whole data is used to learn"
   ]
  },
  {
   "cell_type": "code",
   "execution_count": 7,
   "id": "c5400047-c9e0-44e5-8948-929d9b052870",
   "metadata": {},
   "outputs": [],
   "source": [
    "#Loading the dataset using the mnist.load_data() function\n",
    "(X_train, y_train), (X_test, y_test) = mnist.load_data()"
   ]
  },
  {
   "cell_type": "code",
   "execution_count": 8,
   "id": "7fd36dc0-9edb-46bd-8349-cfb55a780eb9",
   "metadata": {},
   "outputs": [],
   "source": [
    "#Flatten the data, MLP doesn't use the 2D structure of the data. 784 = 28*28\n",
    "X_train = X_train.reshape(60000, 784) # 60,000 digit images\n",
    "X_test = X_test.reshape(10000, 784)\n",
    "\n",
    "X_train = X_train.astype('float32')\n",
    "X_test = X_test.astype('float32')"
   ]
  },
  {
   "cell_type": "code",
   "execution_count": 9,
   "id": "bc4fb4d7-010b-448b-b697-cbdda2a35b68",
   "metadata": {},
   "outputs": [
    {
     "name": "stdout",
     "output_type": "stream",
     "text": [
      "60000 train samples\n",
      "10000 test samples\n"
     ]
    }
   ],
   "source": [
    "# Gaussian Normalization( Z- score)\n",
    "X_train = (X_train- np.mean(X_train))/np.std(X_train)\n",
    "X_test = (X_test- np.mean(X_test))/np.std(X_test)\n",
    "#Displaying the number of the training samples present in the dataset and also the number of testset available.\n",
    "#Display number of training and test instances\n",
    "print(X_train.shape[0], 'train samples')\n",
    "print(X_test.shape[0], 'test samples')"
   ]
  },
  {
   "cell_type": "code",
   "execution_count": 10,
   "id": "4e1f239f-ca9e-44a1-a83b-25afe0ab0d20",
   "metadata": {},
   "outputs": [],
   "source": [
    "# convert class vectors to binary class matrices (ie one-hot vectors)\n",
    "Y_train = to_categorical(y_train, nb_classes)\n",
    "Y_test = to_categorical(y_test, nb_classes)"
   ]
  },
  {
   "cell_type": "code",
   "execution_count": 11,
   "id": "dc242ec1-9d0e-4a30-9c0d-d48d9bdb2d4c",
   "metadata": {},
   "outputs": [
    {
     "name": "stderr",
     "output_type": "stream",
     "text": [
      "2023-12-06 15:59:08.064421: I tensorflow/compiler/xla/stream_executor/cuda/cuda_gpu_executor.cc:894] successful NUMA node read from SysFS had negative value (-1), but there must be at least one NUMA node, so returning NUMA node zero. See more at https://github.com/torvalds/linux/blob/v6.0/Documentation/ABI/testing/sysfs-bus-pci#L344-L355\n",
      "2023-12-06 15:59:08.098873: W tensorflow/core/common_runtime/gpu/gpu_device.cc:2211] Cannot dlopen some GPU libraries. Please make sure the missing libraries mentioned above are installed properly if you would like to use GPU. Follow the guide at https://www.tensorflow.org/install/gpu for how to download and setup the required libraries for your platform.\n",
      "Skipping registering GPU devices...\n"
     ]
    }
   ],
   "source": [
    "#Defining the sequential model of multi layer perceptron:\n",
    "#Define the model achitecture\n",
    "model = Sequential()\n",
    "model.add(Dense(512, input_shape=(784,)))\n",
    "model.add(Activation('relu'))\n",
    "model.add(Dropout(0.2)) # Regularization\n",
    "model.add(Dense(120))\n",
    "model.add(Activation('relu'))\n",
    "model.add(Dropout(0.2))\n",
    "model.add(Dense(10)) #Last layer with one output per class\n",
    "model.add(Activation('softmax')) #We want a score simlar to a probability for each class"
   ]
  },
  {
   "cell_type": "code",
   "execution_count": 12,
   "id": "695b2e6d-2e82-4c6d-ae40-47b4e618d0f2",
   "metadata": {},
   "outputs": [],
   "source": [
    "#Use rmsprop as an optimizer\n",
    "rms = RMSprop()\n",
    "#The function to optimize is the cross entropy between the true label and the output (softmax) of the model.\n",
    "model.compile(loss='categorical_crossentropy', optimizer=rms, metrics=[\"accuracy\"])"
   ]
  },
  {
   "cell_type": "code",
   "execution_count": 14,
   "id": "34951fbf-9179-45f6-94f3-94f3d75c6819",
   "metadata": {},
   "outputs": [
    {
     "name": "stdout",
     "output_type": "stream",
     "text": [
      "Epoch 1/20\n"
     ]
    },
    {
     "name": "stderr",
     "output_type": "stream",
     "text": [
      "2023-12-06 16:00:21.660078: W tensorflow/tsl/framework/cpu_allocator_impl.cc:83] Allocation of 188160000 exceeds 10% of free system memory.\n"
     ]
    },
    {
     "name": "stdout",
     "output_type": "stream",
     "text": [
      "469/469 - 2s - loss: 0.2765 - accuracy: 0.9157 - val_loss: 0.1065 - val_accuracy: 0.9663 - 2s/epoch - 4ms/step\n",
      "Epoch 2/20\n",
      "469/469 - 1s - loss: 0.1263 - accuracy: 0.9633 - val_loss: 0.0864 - val_accuracy: 0.9728 - 1s/epoch - 3ms/step\n",
      "Epoch 3/20\n",
      "469/469 - 1s - loss: 0.0950 - accuracy: 0.9720 - val_loss: 0.0863 - val_accuracy: 0.9736 - 1s/epoch - 3ms/step\n",
      "Epoch 4/20\n",
      "469/469 - 1s - loss: 0.0795 - accuracy: 0.9771 - val_loss: 0.0763 - val_accuracy: 0.9791 - 1s/epoch - 3ms/step\n",
      "Epoch 5/20\n",
      "469/469 - 1s - loss: 0.0665 - accuracy: 0.9803 - val_loss: 0.0854 - val_accuracy: 0.9780 - 1s/epoch - 3ms/step\n",
      "Epoch 6/20\n",
      "469/469 - 1s - loss: 0.0580 - accuracy: 0.9833 - val_loss: 0.1039 - val_accuracy: 0.9764 - 1s/epoch - 3ms/step\n",
      "Epoch 7/20\n",
      "469/469 - 1s - loss: 0.0504 - accuracy: 0.9850 - val_loss: 0.0799 - val_accuracy: 0.9797 - 1s/epoch - 3ms/step\n",
      "Epoch 8/20\n",
      "469/469 - 1s - loss: 0.0492 - accuracy: 0.9859 - val_loss: 0.0789 - val_accuracy: 0.9811 - 1s/epoch - 3ms/step\n",
      "Epoch 9/20\n",
      "469/469 - 1s - loss: 0.0462 - accuracy: 0.9872 - val_loss: 0.0976 - val_accuracy: 0.9802 - 1s/epoch - 3ms/step\n",
      "Epoch 10/20\n",
      "469/469 - 1s - loss: 0.0431 - accuracy: 0.9878 - val_loss: 0.0945 - val_accuracy: 0.9800 - 1s/epoch - 3ms/step\n",
      "Epoch 11/20\n",
      "469/469 - 1s - loss: 0.0395 - accuracy: 0.9893 - val_loss: 0.0929 - val_accuracy: 0.9812 - 1s/epoch - 3ms/step\n",
      "Epoch 12/20\n",
      "469/469 - 1s - loss: 0.0382 - accuracy: 0.9893 - val_loss: 0.0920 - val_accuracy: 0.9806 - 1s/epoch - 3ms/step\n",
      "Epoch 13/20\n",
      "469/469 - 1s - loss: 0.0358 - accuracy: 0.9902 - val_loss: 0.1036 - val_accuracy: 0.9813 - 1s/epoch - 3ms/step\n",
      "Epoch 14/20\n",
      "469/469 - 1s - loss: 0.0349 - accuracy: 0.9901 - val_loss: 0.0999 - val_accuracy: 0.9798 - 1s/epoch - 3ms/step\n",
      "Epoch 15/20\n",
      "469/469 - 1s - loss: 0.0348 - accuracy: 0.9911 - val_loss: 0.0998 - val_accuracy: 0.9827 - 1s/epoch - 3ms/step\n",
      "Epoch 16/20\n",
      "469/469 - 1s - loss: 0.0340 - accuracy: 0.9915 - val_loss: 0.1177 - val_accuracy: 0.9830 - 1s/epoch - 3ms/step\n",
      "Epoch 17/20\n",
      "469/469 - 1s - loss: 0.0328 - accuracy: 0.9918 - val_loss: 0.0988 - val_accuracy: 0.9821 - 1s/epoch - 3ms/step\n",
      "Epoch 18/20\n",
      "469/469 - 1s - loss: 0.0305 - accuracy: 0.9921 - val_loss: 0.1320 - val_accuracy: 0.9809 - 1s/epoch - 3ms/step\n",
      "Epoch 19/20\n",
      "469/469 - 1s - loss: 0.0294 - accuracy: 0.9925 - val_loss: 0.1191 - val_accuracy: 0.9807 - 1s/epoch - 3ms/step\n",
      "Epoch 20/20\n",
      "469/469 - 1s - loss: 0.0282 - accuracy: 0.9925 - val_loss: 0.1334 - val_accuracy: 0.9816 - 1s/epoch - 3ms/step\n"
     ]
    },
    {
     "data": {
      "text/plain": [
       "<keras.src.callbacks.History at 0x7f02845cf4c0>"
      ]
     },
     "execution_count": 14,
     "metadata": {},
     "output_type": "execute_result"
    }
   ],
   "source": [
    "#Using ‘model.fit’ function to train the model.\n",
    "\n",
    "#Make the model learn\n",
    "model.fit(X_train, Y_train, batch_size=batch_size, epochs=nb_epoch, verbose=2, validation_data=(X_test, Y_test))"
   ]
  },
  {
   "cell_type": "code",
   "execution_count": 15,
   "id": "837c2ddd-e8ed-4b88-a0ec-9f3079f3019b",
   "metadata": {},
   "outputs": [
    {
     "name": "stdout",
     "output_type": "stream",
     "text": [
      "Test score: 0.13336052000522614\n",
      "Test accuracy: 0.9815999865531921\n"
     ]
    }
   ],
   "source": [
    "#Using the model.evaluate function to evaluate the performance of the model.\n",
    "#Evaluate how the model does on the test set\n",
    "score = model.evaluate(X_test, Y_test, verbose=0)\n",
    "#Printing the accuracy generated in the model.\n",
    "print('Test score:', score[0])\n",
    "print('Test accuracy:', score[1])"
   ]
  },
  {
   "cell_type": "code",
   "execution_count": null,
   "id": "16587dbe-6dee-4439-aa1c-2752918298b0",
   "metadata": {},
   "outputs": [],
   "source": []
  }
 ],
 "metadata": {
  "kernelspec": {
   "display_name": "Python 3 (ipykernel)",
   "language": "python",
   "name": "python3"
  },
  "language_info": {
   "codemirror_mode": {
    "name": "ipython",
    "version": 3
   },
   "file_extension": ".py",
   "mimetype": "text/x-python",
   "name": "python",
   "nbconvert_exporter": "python",
   "pygments_lexer": "ipython3",
   "version": "3.10.12"
  }
 },
 "nbformat": 4,
 "nbformat_minor": 5
}
