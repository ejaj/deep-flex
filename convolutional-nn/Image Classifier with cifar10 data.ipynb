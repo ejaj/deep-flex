{
 "cells": [
  {
   "cell_type": "code",
   "execution_count": 7,
   "id": "4d770462-3475-44a6-b9aa-52444f1194d5",
   "metadata": {},
   "outputs": [],
   "source": [
    "import numpy as np\n",
    "# random seed for reproducibility\n",
    "np.random.seed(123)\n",
    "from keras.models import Sequential\n",
    "from keras.layers import Dense, Dropout, Flatten, BatchNormalization, Conv2D, MaxPooling2D\n",
    "from keras.datasets import cifar10\n",
    "#Now we will import some utilities\n",
    "from keras.utils import to_categorical"
   ]
  },
  {
   "cell_type": "code",
   "execution_count": 8,
   "id": "bda3bb97-62f9-44b0-a334-3700b23105b8",
   "metadata": {},
   "outputs": [],
   "source": [
    "#Fixed dimension ordering issue\n",
    "from keras import backend as K\n",
    "K.set_image_data_format('channels_first')  # or 'channels_last'"
   ]
  },
  {
   "cell_type": "code",
   "execution_count": 9,
   "id": "a990abf7-6408-46fc-a1a8-a4168d1204b8",
   "metadata": {},
   "outputs": [],
   "source": [
    "(X_train,y_train),(X_test, y_test)=cifar10.load_data()"
   ]
  },
  {
   "cell_type": "code",
   "execution_count": 10,
   "id": "94f7cb3d-d1b3-4155-846c-e2fddc146480",
   "metadata": {},
   "outputs": [
    {
     "name": "stdout",
     "output_type": "stream",
     "text": [
      "(50000, 3, 32, 32)\n"
     ]
    }
   ],
   "source": [
    "#Preprocess imput data for Keras\n",
    "# Reshape input data.\n",
    "# reshape to be [samples][channels][width][height]\n",
    "X_train=X_train.reshape(X_train.shape[0],3,32,32)\n",
    "X_test=X_test.reshape(X_test.shape[0],3,32,32)\n",
    "# to convert our data type to float32 and normalize our database\n",
    "X_train=X_train.astype('float32')\n",
    "X_test=X_test.astype('float32')\n",
    "print(X_train.shape)\n",
    "# Z-scoring or Gaussian Normalization\n",
    "X_train=X_train - np.mean(X_train) / X_train.std()\n",
    "X_test=X_test - np.mean(X_test) / X_test.std()"
   ]
  },
  {
   "cell_type": "code",
   "execution_count": 11,
   "id": "defe8901-3d4b-4cd4-be1f-bb2a7c2d9882",
   "metadata": {},
   "outputs": [
    {
     "name": "stdout",
     "output_type": "stream",
     "text": [
      "10\n",
      "(50000, 3, 32, 32)\n"
     ]
    }
   ],
   "source": [
    "# convert 1-dim class arrays to 10 dim class metrices\n",
    "#one hot encoding outputs\n",
    "y_train=to_categorical(y_train)\n",
    "y_test=to_categorical(y_test)\n",
    "num_classes=y_test.shape[1]\n",
    "print(num_classes)\n",
    "#10\n",
    "#Define a simple CNN model\n",
    "print(X_train.shape)"
   ]
  },
  {
   "cell_type": "code",
   "execution_count": 14,
   "id": "a8877a09-92bc-42a9-8894-9d01ad921a6e",
   "metadata": {},
   "outputs": [
    {
     "name": "stdout",
     "output_type": "stream",
     "text": [
      "(None, 10)\n"
     ]
    }
   ],
   "source": [
    "model=Sequential()\n",
    "model.add(Conv2D(32, (5,5), input_shape=(3,32,32), activation='relu'))\n",
    "model.add(MaxPooling2D(pool_size=(2, 2), data_format='channels_first'))\n",
    "model.add(Conv2D(32, (5,5), activation='relu', padding='same'))\n",
    "model.add(BatchNormalization())\n",
    "model.add(MaxPooling2D(pool_size=(2,2), data_format='channels_first'))\n",
    "model.add(Dropout(0.3))      # Dropout, one form of regularization\n",
    "model.add(Flatten())\n",
    "model.add(Dense(240,activation='elu'))\n",
    "model.add(Dense(10, activation='softmax'))\n",
    "print(model.output_shape)"
   ]
  },
  {
   "cell_type": "code",
   "execution_count": 15,
   "id": "7c39eb16-8713-479f-b64a-3b2e7b064994",
   "metadata": {},
   "outputs": [
    {
     "name": "stderr",
     "output_type": "stream",
     "text": [
      "2023-12-07 15:45:41.063439: W external/local_tsl/tsl/framework/cpu_allocator_impl.cc:83] Allocation of 614400000 exceeds 10% of free system memory.\n",
      "2023-12-07 15:45:42.011638: W external/local_tsl/tsl/framework/cpu_allocator_impl.cc:83] Allocation of 614400000 exceeds 10% of free system memory.\n",
      "2023-12-07 15:45:42.761490: I external/local_xla/xla/stream_executor/cuda/cuda_dnn.cc:454] Loaded cuDNN version 8904\n",
      "2023-12-07 15:45:43.953498: I external/local_xla/xla/service/service.cc:168] XLA service 0x7f0c5bf60460 initialized for platform CUDA (this does not guarantee that XLA will be used). Devices:\n",
      "2023-12-07 15:45:43.953519: I external/local_xla/xla/service/service.cc:176]   StreamExecutor device (0): NVIDIA GeForce RTX 4070 Laptop GPU, Compute Capability 8.9\n",
      "2023-12-07 15:45:43.970022: I tensorflow/compiler/mlir/tensorflow/utils/dump_mlir_util.cc:269] disabling MLIR crash reproducer, set env var `MLIR_CRASH_REPRODUCER_DIRECTORY` to enable.\n",
      "WARNING: All log messages before absl::InitializeLog() is called are written to STDERR\n",
      "I0000 00:00:1701960344.043667  102823 device_compiler.h:186] Compiled cluster using XLA!  This line is logged at most once for the lifetime of the process.\n"
     ]
    },
    {
     "name": "stdout",
     "output_type": "stream",
     "text": [
      "239/250 [===========================>..] - ETA: 0s - loss: 0.3867"
     ]
    },
    {
     "name": "stderr",
     "output_type": "stream",
     "text": [
      "2023-12-07 15:45:46.098532: W external/local_tsl/tsl/framework/cpu_allocator_impl.cc:83] Allocation of 122880000 exceeds 10% of free system memory.\n",
      "2023-12-07 15:45:46.257203: W external/local_tsl/tsl/framework/cpu_allocator_impl.cc:83] Allocation of 122880000 exceeds 10% of free system memory.\n"
     ]
    },
    {
     "name": "stdout",
     "output_type": "stream",
     "text": [
      "250/250 [==============================] - 4s 7ms/step - loss: 0.3853 - val_loss: 0.3310\n"
     ]
    },
    {
     "name": "stderr",
     "output_type": "stream",
     "text": [
      "2023-12-07 15:45:47.339141: W external/local_tsl/tsl/framework/cpu_allocator_impl.cc:83] Allocation of 122880000 exceeds 10% of free system memory.\n"
     ]
    },
    {
     "name": "stdout",
     "output_type": "stream",
     "text": [
      "CNN error:  0.33%\n"
     ]
    }
   ],
   "source": [
    "model.compile(loss='binary_crossentropy', optimizer='adagrad')\n",
    "model.fit(X_train, y_train, validation_data=(X_test, y_test), epochs=1, batch_size=200)\n",
    "# Final evaluation of the model\n",
    "scores =model.evaluate(X_test, y_test, verbose=0)\n",
    "print('CNN error: % .2f%%' % (scores))"
   ]
  },
  {
   "cell_type": "code",
   "execution_count": null,
   "id": "d13fa4d0-133e-4a35-9fe8-98824c3f8a6b",
   "metadata": {},
   "outputs": [],
   "source": []
  }
 ],
 "metadata": {
  "kernelspec": {
   "display_name": "Python 3 (ipykernel)",
   "language": "python",
   "name": "python3"
  },
  "language_info": {
   "codemirror_mode": {
    "name": "ipython",
    "version": 3
   },
   "file_extension": ".py",
   "mimetype": "text/x-python",
   "name": "python",
   "nbconvert_exporter": "python",
   "pygments_lexer": "ipython3",
   "version": "3.10.12"
  }
 },
 "nbformat": 4,
 "nbformat_minor": 5
}
