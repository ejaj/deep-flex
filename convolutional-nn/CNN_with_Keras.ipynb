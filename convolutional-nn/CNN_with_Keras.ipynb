{
 "cells": [
  {
   "cell_type": "code",
   "execution_count": 2,
   "id": "e4b32a70-24af-4dc1-950c-84d9baf6443a",
   "metadata": {},
   "outputs": [],
   "source": [
    "import numpy as np\n",
    "# random seed for reproducibility\n",
    "np.random.seed(123)"
   ]
  },
  {
   "cell_type": "code",
   "execution_count": 3,
   "id": "b8fafc87-b65d-496f-9bae-7ede271ac2a3",
   "metadata": {},
   "outputs": [
    {
     "name": "stderr",
     "output_type": "stream",
     "text": [
      "2023-12-07 15:16:58.660884: E external/local_xla/xla/stream_executor/cuda/cuda_dnn.cc:9261] Unable to register cuDNN factory: Attempting to register factory for plugin cuDNN when one has already been registered\n",
      "2023-12-07 15:16:58.660972: E external/local_xla/xla/stream_executor/cuda/cuda_fft.cc:607] Unable to register cuFFT factory: Attempting to register factory for plugin cuFFT when one has already been registered\n",
      "2023-12-07 15:16:58.689815: E external/local_xla/xla/stream_executor/cuda/cuda_blas.cc:1515] Unable to register cuBLAS factory: Attempting to register factory for plugin cuBLAS when one has already been registered\n",
      "2023-12-07 15:16:58.747656: I tensorflow/core/platform/cpu_feature_guard.cc:182] This TensorFlow binary is optimized to use available CPU instructions in performance-critical operations.\n",
      "To enable the following instructions: AVX2 FMA, in other operations, rebuild TensorFlow with the appropriate compiler flags.\n",
      "2023-12-07 15:16:59.465783: W tensorflow/compiler/tf2tensorrt/utils/py_utils.cc:38] TF-TRT Warning: Could not find TensorRT\n"
     ]
    }
   ],
   "source": [
    "from keras.models import Sequential\n",
    "from keras.layers import Dense\n",
    "from keras.layers import Dropout\n",
    "from keras.layers import Flatten\n",
    "from keras.layers import Conv2D, MaxPooling2D\n",
    "#Now we will import some utilities\n",
    "from keras.utils import to_categorical\n",
    "#Fixed dimension ordering issue\n",
    "from keras import backend as K\n",
    "K.set_image_data_format('channels_first')  # or 'channels_last'"
   ]
  },
  {
   "cell_type": "code",
   "execution_count": 4,
   "id": "7248efff-487b-4e43-96b4-3cdf9b05fb04",
   "metadata": {},
   "outputs": [],
   "source": [
    "from keras.datasets import mnist"
   ]
  },
  {
   "cell_type": "code",
   "execution_count": 5,
   "id": "cd7d6b8a-135e-4447-bd3b-c3f82570e2af",
   "metadata": {},
   "outputs": [],
   "source": [
    "(X_train,y_train),(X_test, y_test)=mnist.load_data()"
   ]
  },
  {
   "cell_type": "code",
   "execution_count": 6,
   "id": "c0e50f81-958b-4f00-a28b-f2a2e36ad763",
   "metadata": {},
   "outputs": [
    {
     "name": "stdout",
     "output_type": "stream",
     "text": [
      "(60000, 1, 28, 28)\n"
     ]
    }
   ],
   "source": [
    "#Preprocess imput data for Keras\n",
    "# Reshape input data.\n",
    "# reshape to be [samples][channels][width][height]\n",
    "X_train=X_train.reshape(X_train.shape[0],1,28,28)\n",
    "X_test=X_test.reshape(X_test.shape[0],1,28,28)\n",
    "# to convert our data type to float32 and normalize our database\n",
    "X_train=X_train.astype('float32')\n",
    "X_test=X_test.astype('float32')\n",
    "print(X_train.shape)"
   ]
  },
  {
   "cell_type": "markdown",
   "id": "a6299072-b5ce-4cc7-ae19-a360f3a173b0",
   "metadata": {},
   "source": [
    "***Normalization and preprocessing of Data***"
   ]
  },
  {
   "cell_type": "code",
   "execution_count": 7,
   "id": "6f8821f4-bd3c-43b2-965c-399f7310c773",
   "metadata": {},
   "outputs": [
    {
     "name": "stdout",
     "output_type": "stream",
     "text": [
      "10\n",
      "(60000, 1, 28, 28)\n"
     ]
    }
   ],
   "source": [
    "# Z-scoring or Gaussian Normalization\n",
    "X_train=X_train - np.mean(X_train) / X_train.std()\n",
    "X_test=X_test - np.mean(X_test) / X_test.std()\n",
    "#(60000, 1, 28, 28)\n",
    "# convert 1-dim class arrays to 10 dim class metrices\n",
    "#one hot encoding outputs\n",
    "y_train=to_categorical(y_train)\n",
    "y_test=to_categorical(y_test)\n",
    "num_classes=y_test.shape[1]\n",
    "print(num_classes)\n",
    "#10\n",
    "#Define a simple CNN model\n",
    "print(X_train.shape)\n",
    "#(60000,1,28,28)"
   ]
  },
  {
   "cell_type": "markdown",
   "id": "479e1eab-0d72-46ec-ad2b-b2b3d7854e15",
   "metadata": {},
   "source": [
    "***Define model architecture***"
   ]
  },
  {
   "cell_type": "code",
   "execution_count": 8,
   "id": "638c403e-8a29-4ad9-809f-232c2aa6cb6d",
   "metadata": {},
   "outputs": [
    {
     "name": "stdout",
     "output_type": "stream",
     "text": [
      "(None, 10)\n"
     ]
    },
    {
     "name": "stderr",
     "output_type": "stream",
     "text": [
      "2023-12-07 15:17:09.248452: I external/local_xla/xla/stream_executor/cuda/cuda_executor.cc:901] successful NUMA node read from SysFS had negative value (-1), but there must be at least one NUMA node, so returning NUMA node zero. See more at https://github.com/torvalds/linux/blob/v6.0/Documentation/ABI/testing/sysfs-bus-pci#L344-L355\n",
      "2023-12-07 15:17:09.352285: I external/local_xla/xla/stream_executor/cuda/cuda_executor.cc:901] successful NUMA node read from SysFS had negative value (-1), but there must be at least one NUMA node, so returning NUMA node zero. See more at https://github.com/torvalds/linux/blob/v6.0/Documentation/ABI/testing/sysfs-bus-pci#L344-L355\n",
      "2023-12-07 15:17:09.352509: I external/local_xla/xla/stream_executor/cuda/cuda_executor.cc:901] successful NUMA node read from SysFS had negative value (-1), but there must be at least one NUMA node, so returning NUMA node zero. See more at https://github.com/torvalds/linux/blob/v6.0/Documentation/ABI/testing/sysfs-bus-pci#L344-L355\n",
      "2023-12-07 15:17:09.354488: I external/local_xla/xla/stream_executor/cuda/cuda_executor.cc:901] successful NUMA node read from SysFS had negative value (-1), but there must be at least one NUMA node, so returning NUMA node zero. See more at https://github.com/torvalds/linux/blob/v6.0/Documentation/ABI/testing/sysfs-bus-pci#L344-L355\n",
      "2023-12-07 15:17:09.354677: I external/local_xla/xla/stream_executor/cuda/cuda_executor.cc:901] successful NUMA node read from SysFS had negative value (-1), but there must be at least one NUMA node, so returning NUMA node zero. See more at https://github.com/torvalds/linux/blob/v6.0/Documentation/ABI/testing/sysfs-bus-pci#L344-L355\n",
      "2023-12-07 15:17:09.354833: I external/local_xla/xla/stream_executor/cuda/cuda_executor.cc:901] successful NUMA node read from SysFS had negative value (-1), but there must be at least one NUMA node, so returning NUMA node zero. See more at https://github.com/torvalds/linux/blob/v6.0/Documentation/ABI/testing/sysfs-bus-pci#L344-L355\n",
      "2023-12-07 15:17:09.431129: I external/local_xla/xla/stream_executor/cuda/cuda_executor.cc:901] successful NUMA node read from SysFS had negative value (-1), but there must be at least one NUMA node, so returning NUMA node zero. See more at https://github.com/torvalds/linux/blob/v6.0/Documentation/ABI/testing/sysfs-bus-pci#L344-L355\n",
      "2023-12-07 15:17:09.431326: I external/local_xla/xla/stream_executor/cuda/cuda_executor.cc:901] successful NUMA node read from SysFS had negative value (-1), but there must be at least one NUMA node, so returning NUMA node zero. See more at https://github.com/torvalds/linux/blob/v6.0/Documentation/ABI/testing/sysfs-bus-pci#L344-L355\n",
      "2023-12-07 15:17:09.431492: I external/local_xla/xla/stream_executor/cuda/cuda_executor.cc:901] successful NUMA node read from SysFS had negative value (-1), but there must be at least one NUMA node, so returning NUMA node zero. See more at https://github.com/torvalds/linux/blob/v6.0/Documentation/ABI/testing/sysfs-bus-pci#L344-L355\n",
      "2023-12-07 15:17:09.431628: I tensorflow/core/common_runtime/gpu/gpu_device.cc:1929] Created device /job:localhost/replica:0/task:0/device:GPU:0 with 6263 MB memory:  -> device: 0, name: NVIDIA GeForce RTX 4070 Laptop GPU, pci bus id: 0000:01:00.0, compute capability: 8.9\n"
     ]
    }
   ],
   "source": [
    "# create a model\n",
    "model=Sequential()\n",
    "model.add(Conv2D(32, (5,5), input_shape=(1,28,28), activation='relu', padding=\"SAME\"))\n",
    "model.add(MaxPooling2D(pool_size=(2, 2), data_format='channels_first'))  # Set data_format to 'channels_first'\n",
    "model.add(Dropout(0.3))      # Dropout, one form of regularization\n",
    "model.add(Flatten())\n",
    "model.add(Dense(10,activation='elu'))\n",
    "model.add(Dense(num_classes, activation='softmax'))\n",
    "print(model.output_shape)"
   ]
  },
  {
   "cell_type": "markdown",
   "id": "12c4d1c4-8279-4423-b799-ee7443d9dd4b",
   "metadata": {},
   "source": [
    "***Compile The model***"
   ]
  },
  {
   "cell_type": "code",
   "execution_count": 9,
   "id": "08d4b95a-e002-49e3-81e4-84488e43a673",
   "metadata": {},
   "outputs": [],
   "source": [
    "model.compile(loss='binary_crossentropy', optimizer='adagrad')"
   ]
  },
  {
   "cell_type": "code",
   "execution_count": 10,
   "id": "ef574046-0e26-4aad-abd2-6e8a0290d1dd",
   "metadata": {},
   "outputs": [
    {
     "data": {
      "text/plain": [
       "(60000, 1, 28, 28)"
      ]
     },
     "execution_count": 10,
     "metadata": {},
     "output_type": "execute_result"
    }
   ],
   "source": [
    "X_train.shape"
   ]
  },
  {
   "cell_type": "markdown",
   "id": "e7d8b4e1-4420-4e88-bf7d-d15830c685e9",
   "metadata": {},
   "source": [
    "***Fit the Model***"
   ]
  },
  {
   "cell_type": "code",
   "execution_count": 11,
   "id": "46ed60de-c158-4434-a7f3-1bea096c3376",
   "metadata": {},
   "outputs": [
    {
     "name": "stderr",
     "output_type": "stream",
     "text": [
      "2023-12-07 15:17:31.165705: I external/local_xla/xla/stream_executor/cuda/cuda_dnn.cc:454] Loaded cuDNN version 8904\n",
      "2023-12-07 15:17:32.334108: I external/local_xla/xla/service/service.cc:168] XLA service 0x7f1aa73bd360 initialized for platform CUDA (this does not guarantee that XLA will be used). Devices:\n",
      "2023-12-07 15:17:32.334137: I external/local_xla/xla/service/service.cc:176]   StreamExecutor device (0): NVIDIA GeForce RTX 4070 Laptop GPU, Compute Capability 8.9\n",
      "2023-12-07 15:17:32.341520: I tensorflow/compiler/mlir/tensorflow/utils/dump_mlir_util.cc:269] disabling MLIR crash reproducer, set env var `MLIR_CRASH_REPRODUCER_DIRECTORY` to enable.\n",
      "WARNING: All log messages before absl::InitializeLog() is called are written to STDERR\n",
      "I0000 00:00:1701958652.396840   94133 device_compiler.h:186] Compiled cluster using XLA!  This line is logged at most once for the lifetime of the process.\n"
     ]
    },
    {
     "name": "stdout",
     "output_type": "stream",
     "text": [
      "300/300 [==============================] - 3s 3ms/step - loss: 1.0132 - val_loss: 0.8822\n"
     ]
    },
    {
     "data": {
      "text/plain": [
       "<keras.src.callbacks.History at 0x7f1dfb6bdc60>"
      ]
     },
     "execution_count": 11,
     "metadata": {},
     "output_type": "execute_result"
    }
   ],
   "source": [
    "model.fit(X_train, y_train, validation_data=(X_test, y_test), epochs=1, batch_size=200,verbose=1)"
   ]
  },
  {
   "cell_type": "markdown",
   "id": "ab20cd04-6301-4480-a685-fafd5560b5b5",
   "metadata": {},
   "source": [
    "***Evaluate Model On the test Data***"
   ]
  },
  {
   "cell_type": "code",
   "execution_count": 12,
   "id": "b549fdbe-161f-428f-8030-d19ae9c9f33c",
   "metadata": {},
   "outputs": [
    {
     "name": "stdout",
     "output_type": "stream",
     "text": [
      " CNN Error: 0.88%\n"
     ]
    }
   ],
   "source": [
    "# Final evaluation of the model\n",
    "scores =model.evaluate(X_test, y_test, verbose=0)\n",
    "print(\" CNN Error: %.2f%%\" % (scores))\n",
    "# CNN Error: 17.98%"
   ]
  },
  {
   "cell_type": "code",
   "execution_count": null,
   "id": "2e2ef306-f44b-4c65-91d2-1b90d687802f",
   "metadata": {},
   "outputs": [],
   "source": []
  }
 ],
 "metadata": {
  "kernelspec": {
   "display_name": "Python 3 (ipykernel)",
   "language": "python",
   "name": "python3"
  },
  "language_info": {
   "codemirror_mode": {
    "name": "ipython",
    "version": 3
   },
   "file_extension": ".py",
   "mimetype": "text/x-python",
   "name": "python",
   "nbconvert_exporter": "python",
   "pygments_lexer": "ipython3",
   "version": "3.10.12"
  }
 },
 "nbformat": 4,
 "nbformat_minor": 5
}
