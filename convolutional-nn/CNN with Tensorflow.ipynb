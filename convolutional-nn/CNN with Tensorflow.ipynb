{
 "cells": [
  {
   "cell_type": "code",
   "execution_count": 2,
   "id": "59e9683e-48f7-4c88-8f24-32dfcd71ec79",
   "metadata": {},
   "outputs": [],
   "source": [
    "import matplotlib.pyplot as plt\n",
    "import tensorflow as tf\n",
    "from tensorflow.keras import datasets\n",
    "from tensorflow.python.framework import ops\n",
    "import tensorflow as tf\n",
    "import numpy as np"
   ]
  },
  {
   "cell_type": "code",
   "execution_count": 4,
   "id": "6594b2d5-9e27-4eea-835f-cf85b10be3d9",
   "metadata": {},
   "outputs": [],
   "source": [
    "tf.compat.v1.logging.set_verbosity(tf.compat.v1.logging.ERROR)\n",
    "tf = tf.compat.v1\n",
    "tf.disable_v2_behavior()"
   ]
  },
  {
   "cell_type": "code",
   "execution_count": 5,
   "id": "9207c9b2-ebf5-4385-8142-33b90c083b94",
   "metadata": {},
   "outputs": [
    {
     "name": "stderr",
     "output_type": "stream",
     "text": [
      "2023-12-06 21:10:56.584015: I tensorflow/compiler/xla/stream_executor/cuda/cuda_gpu_executor.cc:894] successful NUMA node read from SysFS had negative value (-1), but there must be at least one NUMA node, so returning NUMA node zero. See more at https://github.com/torvalds/linux/blob/v6.0/Documentation/ABI/testing/sysfs-bus-pci#L344-L355\n",
      "2023-12-06 21:10:56.618683: W tensorflow/core/common_runtime/gpu/gpu_device.cc:2211] Cannot dlopen some GPU libraries. Please make sure the missing libraries mentioned above are installed properly if you would like to use GPU. Follow the guide at https://www.tensorflow.org/install/gpu for how to download and setup the required libraries for your platform.\n",
      "Skipping registering GPU devices...\n"
     ]
    }
   ],
   "source": [
    "sess = tf.Session()"
   ]
  },
  {
   "cell_type": "code",
   "execution_count": 7,
   "id": "2851a8a9-cd90-4178-9153-c6d121c4ef7f",
   "metadata": {},
   "outputs": [],
   "source": [
    "(X_train, y_train), (X_test, y_test) = datasets.mnist.load_data()"
   ]
  },
  {
   "cell_type": "code",
   "execution_count": 8,
   "id": "587e2071-0e1e-413a-841d-5862d3afb0cc",
   "metadata": {},
   "outputs": [],
   "source": [
    "#We then normalize the train and test set features \n",
    "# Z- scoring  or Gaussian Normalization\n",
    "X_train = X_train - np.mean(X_train) / X_train.std()\n",
    "X_test = X_test - np.mean(X_test) / X_test.std()"
   ]
  },
  {
   "cell_type": "code",
   "execution_count": 9,
   "id": "1f179c99-940a-4b73-acc4-b4f9d5334fb5",
   "metadata": {},
   "outputs": [],
   "source": [
    "# Convert labels into one-hot encoded vectors\n",
    "train_labels = y_train\n",
    "test_labels = y_test"
   ]
  },
  {
   "cell_type": "code",
   "execution_count": 10,
   "id": "5d9dfc6d-c7ee-46c7-821d-531187ba1ecc",
   "metadata": {},
   "outputs": [],
   "source": [
    "num_class = 10"
   ]
  },
  {
   "cell_type": "code",
   "execution_count": 11,
   "id": "8c77a609-17af-4cf0-8811-d8cc33c0824f",
   "metadata": {},
   "outputs": [],
   "source": [
    "# Set model parameters\n",
    "batch_size = 784\n",
    "samples =500\n",
    "learning_rate = 0.03\n",
    "img_width = X_train[0].shape[0]\n",
    "img_height = X_train[0].shape[1]\n",
    "target_size = max(train_labels) + 1\n",
    "num_channels = 1 # greyscale = 1 channel\n",
    "epoch = 3\n",
    "no_channels = 1\n",
    "conv1_features = 30\n",
    "filt1_features = 5\n",
    "conv2_features = 15\n",
    "filt2_features = 3\n",
    "max_pool_size1 = 2 # NxN window for 1st max pool layer\n",
    "max_pool_size2 = 2 # NxN window for 2nd max pool layer\n",
    "fully_connected_size1 = 150"
   ]
  },
  {
   "cell_type": "code",
   "execution_count": null,
   "id": "2d100da1-33e5-428f-ae14-7be764248b72",
   "metadata": {},
   "outputs": [],
   "source": []
  }
 ],
 "metadata": {
  "kernelspec": {
   "display_name": "Python 3 (ipykernel)",
   "language": "python",
   "name": "python3"
  },
  "language_info": {
   "codemirror_mode": {
    "name": "ipython",
    "version": 3
   },
   "file_extension": ".py",
   "mimetype": "text/x-python",
   "name": "python",
   "nbconvert_exporter": "python",
   "pygments_lexer": "ipython3",
   "version": "3.10.12"
  }
 },
 "nbformat": 4,
 "nbformat_minor": 5
}
